{
 "cells": [
  {
   "cell_type": "code",
   "execution_count": 2,
   "metadata": {},
   "outputs": [],
   "source": [
    "import cv2\n",
    "import numpy as np\n",
    "import matplotlib.pyplot as plt\n",
    "%matplotlib inline\n",
    "import os"
   ]
  },
  {
   "cell_type": "code",
   "execution_count": null,
   "metadata": {},
   "outputs": [],
   "source": [
    "# KTP terlah direname sesuai dengan format: nama_orang.jpg\n",
    "filenames = os.listdir('dataset/faces/')\n",
    "path = []\n",
    "label = []\n",
    "for i in filenames:\n",
    "    path.append('dataset/faces/'+i)\n",
    "    label.append(i.split('.')[0])\n",
    "\n",
    "# read image\n",
    "faces = []\n",
    "for i in path:\n",
    "    faces.append(cv2.imread(i,0))\n",
    "\n",
    "# tampilkan 10 gambar pertama\n",
    "plt.subplots(figsize=(15, 15))\n",
    "\n",
    "for i in range(10):\n",
    "    plt.subplot(5, 2, i+1)\n",
    "    plt.imshow(cv2.cvtColor(faces[i], cv2.COLOR_BGR2RGB))\n",
    "    plt.title(label[i])\n",
    "    plt.axis('off')\n",
    "plt.axis('off')\n",
    "plt.show()"
   ]
  },
  {
   "cell_type": "code",
   "execution_count": 40,
   "metadata": {},
   "outputs": [],
   "source": [
    "filenames = os.listdir('dataset/ktp/')\n",
    "path = []\n",
    "label_ktp = []\n",
    "for i in filenames:\n",
    "    path.append('dataset/ktp/'+i)\n",
    "    label_ktp.append(i.split('.')[0])\n",
    "\n",
    "# read image\n",
    "ktps = []\n",
    "for i in path:\n",
    "    ktps.append(cv2.imread(i))"
   ]
  },
  {
   "cell_type": "code",
   "execution_count": null,
   "metadata": {},
   "outputs": [],
   "source": [
    "def match(img, template_list):\n",
    "    matches = []\n",
    "    for i in range(len(template_list)):\n",
    "        template = template_list[i]\n",
    "        try:\n",
    "            res = cv2.matchTemplate(img,template,cv2.TM_CCOEFF_NORMED)\n",
    "        except:\n",
    "            pass\n",
    "\n",
    "        threshold = 0.9\n",
    "        loc = np.where( res >= threshold)\n",
    "        if len(loc[0]) > 0:\n",
    "            matches.append(i)\n",
    "    if len(matches) > 0:\n",
    "        return matches[0]\n",
    "    else:\n",
    "        return -1\n",
    "\n",
    "\n",
    "\n",
    "\n",
    "img2 = ktps[12]\n",
    "imgOriginal = img2.copy()\n",
    "img2 = cv2.cvtColor(img2, cv2.COLOR_BGR2GRAY)\n",
    "idx = match(img2, faces)\n",
    "if idx != -1:\n",
    "    cv2.putText(imgOriginal, label[idx], (50,50), cv2.FONT_HERSHEY_SIMPLEX, 1, (0,0,255), 2)\n",
    "else:\n",
    "    cv2.putText(imgOriginal, 'Unknown', (50,50), cv2.FONT_HERSHEY_SIMPLEX, 1, (0,0,255), 2)\n",
    "plt.imshow(cv2.cvtColor(imgOriginal, cv2.COLOR_BGR2RGB))\n",
    "plt.show()\n",
    "\n"
   ]
  }
 ],
 "metadata": {
  "kernelspec": {
   "display_name": "tf_cuda",
   "language": "python",
   "name": "python3"
  },
  "language_info": {
   "codemirror_mode": {
    "name": "ipython",
    "version": 3
   },
   "file_extension": ".py",
   "mimetype": "text/x-python",
   "name": "python",
   "nbconvert_exporter": "python",
   "pygments_lexer": "ipython3",
   "version": "3.10.13"
  }
 },
 "nbformat": 4,
 "nbformat_minor": 2
}
